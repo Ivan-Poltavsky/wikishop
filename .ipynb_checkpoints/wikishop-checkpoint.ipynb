{
 "cells": [
  {
   "cell_type": "markdown",
   "metadata": {
    "toc": true
   },
   "source": [
    "<h1>Содержание<span class=\"tocSkip\"></span></h1>\n",
    "<div class=\"toc\"><ul class=\"toc-item\"><li><span><a href=\"#Подготовка\" data-toc-modified-id=\"Подготовка-1\"><span class=\"toc-item-num\">1&nbsp;&nbsp;</span>Подготовка</a></span></li><li><span><a href=\"#Обучение\" data-toc-modified-id=\"Обучение-2\"><span class=\"toc-item-num\">2&nbsp;&nbsp;</span>Обучение</a></span><ul class=\"toc-item\"><li><span><a href=\"#LogisticRegression\" data-toc-modified-id=\"LogisticRegression-2.1\"><span class=\"toc-item-num\">2.1&nbsp;&nbsp;</span>LogisticRegression</a></span></li><li><span><a href=\"#RandomForestClassifier\" data-toc-modified-id=\"RandomForestClassifier-2.2\"><span class=\"toc-item-num\">2.2&nbsp;&nbsp;</span>RandomForestClassifier</a></span></li><li><span><a href=\"#LGBMClassifier\" data-toc-modified-id=\"LGBMClassifier-2.3\"><span class=\"toc-item-num\">2.3&nbsp;&nbsp;</span>LGBMClassifier</a></span></li><li><span><a href=\"#CatBoostClassifier\" data-toc-modified-id=\"CatBoostClassifier-2.4\"><span class=\"toc-item-num\">2.4&nbsp;&nbsp;</span>CatBoostClassifier</a></span></li></ul></li><li><span><a href=\"#Выводы\" data-toc-modified-id=\"Выводы-3\"><span class=\"toc-item-num\">3&nbsp;&nbsp;</span>Выводы</a></span><ul class=\"toc-item\"><li><span><a href=\"#Подготовка\" data-toc-modified-id=\"Подготовка-3.1\"><span class=\"toc-item-num\">3.1&nbsp;&nbsp;</span>Подготовка</a></span></li><li><span><a href=\"#Обучение\" data-toc-modified-id=\"Обучение-3.2\"><span class=\"toc-item-num\">3.2&nbsp;&nbsp;</span>Обучение</a></span></li></ul></li><li><span><a href=\"#Чек-лист-проверки\" data-toc-modified-id=\"Чек-лист-проверки-4\"><span class=\"toc-item-num\">4&nbsp;&nbsp;</span>Чек-лист проверки</a></span></li></ul></div>"
   ]
  },
  {
   "cell_type": "markdown",
   "metadata": {},
   "source": [
    "# Проект для «Викишоп» c Bert"
   ]
  },
  {
   "cell_type": "markdown",
   "metadata": {},
   "source": [
    "Интернет-магазин «Викишоп» запускает новый сервис. Теперь пользователи могут редактировать и дополнять описания товаров, как в вики-сообществах. То есть клиенты предлагают свои правки и комментируют изменения других. Магазину нужен инструмент, который будет искать токсичные комментарии и отправлять их на модерацию. \n",
    "\n",
    "Обучите модель классифицировать комментарии на позитивные и негативные. В вашем распоряжении набор данных с разметкой о токсичности правок.\n",
    "\n",
    "Постройте модель со значением метрики качества *F1* не меньше 0.75. \n",
    "\n",
    "**Инструкция по выполнению проекта**\n",
    "\n",
    "1. Загрузите и подготовьте данные.\n",
    "2. Обучите разные модели. \n",
    "3. Сделайте выводы.\n",
    "\n",
    "Для выполнения проекта применять *BERT* необязательно, но вы можете попробовать.\n",
    "\n",
    "**Описание данных**\n",
    "\n",
    "Данные находятся в файле `toxic_comments.csv`. Столбец *text* в нём содержит текст комментария, а *toxic* — целевой признак."
   ]
  },
  {
   "cell_type": "markdown",
   "metadata": {},
   "source": [
    "**Библиотеки**"
   ]
  },
  {
   "cell_type": "code",
   "execution_count": 1,
   "metadata": {},
   "outputs": [],
   "source": [
    "import pandas as pd\n",
    "import numpy as np\n",
    "\n",
    "from pymystem3 import Mystem\n",
    "\n",
    "import torch\n",
    "from transformers import AutoTokenizer, AutoModel\n",
    "\n",
    "from tqdm import notebook\n",
    "\n",
    "from sklearn.model_selection import train_test_split\n",
    "from sklearn.model_selection import GridSearchCV\n",
    "\n",
    "from sklearn.metrics import f1_score, make_scorer\n",
    "\n",
    "from sklearn.linear_model import LogisticRegression\n",
    "from sklearn.ensemble import RandomForestClassifier\n",
    "from lightgbm import LGBMClassifier\n",
    "from catboost import CatBoostClassifier\n",
    "\n",
    "import warnings\n",
    "warnings.filterwarnings('ignore')"
   ]
  },
  {
   "cell_type": "code",
   "execution_count": 2,
   "metadata": {},
   "outputs": [
    {
     "data": {
      "text/html": [
       "<div>\n",
       "<style scoped>\n",
       "    .dataframe tbody tr th:only-of-type {\n",
       "        vertical-align: middle;\n",
       "    }\n",
       "\n",
       "    .dataframe tbody tr th {\n",
       "        vertical-align: top;\n",
       "    }\n",
       "\n",
       "    .dataframe thead th {\n",
       "        text-align: right;\n",
       "    }\n",
       "</style>\n",
       "<table border=\"1\" class=\"dataframe\">\n",
       "  <thead>\n",
       "    <tr style=\"text-align: right;\">\n",
       "      <th></th>\n",
       "      <th>text</th>\n",
       "      <th>toxic</th>\n",
       "    </tr>\n",
       "  </thead>\n",
       "  <tbody>\n",
       "    <tr>\n",
       "      <th>57122</th>\n",
       "      <td>See Wikipedia:Administrators#Misuse_of_adminis...</td>\n",
       "      <td>0</td>\n",
       "    </tr>\n",
       "    <tr>\n",
       "      <th>109056</th>\n",
       "      <td>\"\\n\\nOMG...see \"\"language\"\" topic please....th...</td>\n",
       "      <td>1</td>\n",
       "    </tr>\n",
       "    <tr>\n",
       "      <th>33352</th>\n",
       "      <td>Please feel free to add anything you feel I've...</td>\n",
       "      <td>0</td>\n",
       "    </tr>\n",
       "    <tr>\n",
       "      <th>89599</th>\n",
       "      <td>But this is a real musical artist. Check WP:MUSIC</td>\n",
       "      <td>0</td>\n",
       "    </tr>\n",
       "    <tr>\n",
       "      <th>133410</th>\n",
       "      <td>Thanks, but no. I use Twinkle warnings for con...</td>\n",
       "      <td>0</td>\n",
       "    </tr>\n",
       "  </tbody>\n",
       "</table>\n",
       "</div>"
      ],
      "text/plain": [
       "                                                     text  toxic\n",
       "57122   See Wikipedia:Administrators#Misuse_of_adminis...      0\n",
       "109056  \"\\n\\nOMG...see \"\"language\"\" topic please....th...      1\n",
       "33352   Please feel free to add anything you feel I've...      0\n",
       "89599   But this is a real musical artist. Check WP:MUSIC      0\n",
       "133410  Thanks, but no. I use Twinkle warnings for con...      0"
      ]
     },
     "execution_count": 2,
     "metadata": {},
     "output_type": "execute_result"
    }
   ],
   "source": [
    "df = pd.read_csv('/datasets/toxic_comments.csv')\n",
    "df.drop(columns=['Unnamed: 0'], inplace=True)\n",
    "df.sample(5)"
   ]
  },
  {
   "cell_type": "markdown",
   "metadata": {},
   "source": [
    "## Подготовка"
   ]
  },
  {
   "cell_type": "markdown",
   "metadata": {},
   "source": [
    "Проверим наш датасет на пропуски и дубликаты"
   ]
  },
  {
   "cell_type": "code",
   "execution_count": 3,
   "metadata": {},
   "outputs": [
    {
     "name": "stdout",
     "output_type": "stream",
     "text": [
      "Кол-во пропусков в датасете:\n",
      "text     0\n",
      "toxic    0\n",
      "dtype: int64\n",
      "Кол-во дубликатов: 0\n"
     ]
    }
   ],
   "source": [
    "print('Кол-во пропусков в датасете:')\n",
    "print(df.isna().sum())\n",
    "print('Кол-во дубликатов:',df.duplicated().sum())"
   ]
  },
  {
   "cell_type": "markdown",
   "metadata": {},
   "source": [
    "Возьмем 400 случайный строк из датасета"
   ]
  },
  {
   "cell_type": "code",
   "execution_count": 4,
   "metadata": {},
   "outputs": [],
   "source": [
    "df_400 = df.sample(400).reset_index(drop=True)"
   ]
  },
  {
   "cell_type": "markdown",
   "metadata": {},
   "source": [
    "Токенизация и создание эмбеддингов с помощью Toxic-Bert"
   ]
  },
  {
   "cell_type": "code",
   "execution_count": 5,
   "metadata": {},
   "outputs": [],
   "source": [
    "tokenizer = AutoTokenizer.from_pretrained(\"unitary/toxic-bert\")\n",
    "\n",
    "# токенизация с добавление специальных символов для обозначения начала и конца последовательности\n",
    "tokenized = df_400['text'].apply(\n",
    "    lambda x: tokenizer.encode(x, add_special_tokens=True, truncation=True, max_length=512))\n",
    "\n",
    "# приведение к одной длине\n",
    "max_len = max(len(x) for x in tokenized)\n",
    "padded = np.array([x + [0]*(max_len - len(x)) for x in tokenized])\n",
    "\n",
    "# маскирование\n",
    "attention_mask = np.where(padded != 0, 1, 0) "
   ]
  },
  {
   "cell_type": "code",
   "execution_count": 6,
   "metadata": {},
   "outputs": [
    {
     "name": "stderr",
     "output_type": "stream",
     "text": [
      "Some weights of the model checkpoint at unitary/toxic-bert were not used when initializing BertModel: ['classifier.bias', 'classifier.weight']\n",
      "- This IS expected if you are initializing BertModel from the checkpoint of a model trained on another task or with another architecture (e.g. initializing a BertForSequenceClassification model from a BertForPreTraining model).\n",
      "- This IS NOT expected if you are initializing BertModel from the checkpoint of a model that you expect to be exactly identical (initializing a BertForSequenceClassification model from a BertForSequenceClassification model).\n"
     ]
    },
    {
     "data": {
      "application/vnd.jupyter.widget-view+json": {
       "model_id": "c989039e91d1439496c667aa0bd377f9",
       "version_major": 2,
       "version_minor": 0
      },
      "text/plain": [
       "  0%|          | 0/16 [00:00<?, ?it/s]"
      ]
     },
     "metadata": {},
     "output_type": "display_data"
    }
   ],
   "source": [
    "model = AutoModel.from_pretrained(\"unitary/toxic-bert\")\n",
    "# количетсо образцов\n",
    "batch_size = 25\n",
    "embeddings = []\n",
    "\n",
    "# Создание эмбеддингов для векторного представления текстов\n",
    "for i in notebook.tqdm(range(padded.shape[0] // batch_size)):\n",
    "    batch = torch.LongTensor(padded[batch_size*i:batch_size*(i+1)]) \n",
    "    attention_mask_batch = torch.LongTensor(attention_mask[batch_size*i:batch_size*(i+1)])\n",
    "    with torch.no_grad():\n",
    "        batch_embeddings = model(batch, attention_mask=attention_mask_batch)\n",
    "    embeddings.append(batch_embeddings[0][:,0,:].numpy())\n",
    "    \n",
    "features = np.concatenate(embeddings)"
   ]
  },
  {
   "cell_type": "markdown",
   "metadata": {},
   "source": [
    "Проверим дисбаланс классов"
   ]
  },
  {
   "cell_type": "code",
   "execution_count": 7,
   "metadata": {},
   "outputs": [
    {
     "data": {
      "image/png": "[encoded data removed]",
      "text/plain": [
       "<Figure size 576x720 with 1 Axes>"
      ]
     },
     "metadata": {
      "needs_background": "light"
     },
     "output_type": "display_data"
    }
   ],
   "source": [
    "df_400['toxic'].value_counts().plot(kind='bar', figsize=(8,10), xlabel='Классы', ylabel='Кол-во', title='Распределение классов')\n",
    "None"
   ]
  },
  {
   "cell_type": "markdown",
   "metadata": {},
   "source": [
    "**Вывод**: Дисбаланс классов присутвует"
   ]
  },
  {
   "cell_type": "markdown",
   "metadata": {},
   "source": [
    "Разделим наш датасет на обучающуюся и тестовую выборку"
   ]
  },
  {
   "cell_type": "code",
   "execution_count": 8,
   "metadata": {},
   "outputs": [
    {
     "name": "stdout",
     "output_type": "stream",
     "text": [
      "Features Train:(320, 768), Target Train:(320,)\n",
      "Features Test :(80, 768), Target Test:(80,)\n"
     ]
    }
   ],
   "source": [
    "RANDOM_STATE = 42\n",
    "TEST_SIZE = 0.2\n",
    "features_train, features_test, target_train, target_test = train_test_split(features, df_400['toxic'], \n",
    "                                                                                        random_state=RANDOM_STATE,\n",
    "                                                                                        test_size=TEST_SIZE, stratify=df_400['toxic'])\n",
    "\n",
    "\n",
    "print(f'Features Train:{features_train.shape}, Target Train:{target_train.shape}')\n",
    "print(f'Features Test :{features_test.shape}, Target Test:{target_test.shape}')"
   ]
  },
  {
   "cell_type": "markdown",
   "metadata": {},
   "source": [
    "## Обучение"
   ]
  },
  {
   "cell_type": "markdown",
   "metadata": {},
   "source": [
    "### LogisticRegression"
   ]
  },
  {
   "cell_type": "code",
   "execution_count": 9,
   "metadata": {},
   "outputs": [],
   "source": [
    "def grid_search_cv(model, param_grid, X_train, y_train):\n",
    "    f1 = make_scorer(f1_score , average='binary')\n",
    "    grid_search = GridSearchCV(model, param_grid, cv=5, scoring=f1, n_jobs=-1)\n",
    "    grid_search.fit(X_train, y_train)\n",
    "    results = pd.DataFrame(grid_search.cv_results_)\n",
    "    mean_fit_time_best_model = results.loc[results['params'].eq(grid_search.best_params_).idxmax(), 'mean_fit_time']\n",
    "    mean_score_time_best_model = results.loc[results['params'].eq(grid_search.best_params_).idxmax(), 'mean_score_time']\n",
    "    print(\"Среднее время обучения для лучшей модели:\", mean_fit_time_best_model)\n",
    "    print(\"Среднее время тестирования для лучшей модели:\", mean_score_time_best_model)\n",
    "    print(\"Лучший результат кросс-валидации F1:\", np.sqrt(grid_search.best_score_))\n",
    "    return mean_fit_time_best_model, mean_score_time_best_model, np.sqrt(grid_search.best_score_), grid_search.best_estimator_"
   ]
  },
  {
   "cell_type": "code",
   "execution_count": 10,
   "metadata": {},
   "outputs": [
    {
     "name": "stdout",
     "output_type": "stream",
     "text": [
      "Среднее время обучения для лучшей модели: 0.48137741088867186\n",
      "Среднее время тестирования для лучшей модели: 0.01887936592102051\n",
      "Лучший результат кросс-валидации F1: 0.9486832980505138\n"
     ]
    }
   ],
   "source": [
    "param_grid = {}\n",
    "model_lr = LogisticRegression()\n",
    "mean_fit_time_lr, mean_score_time_lr, f1_lr, model_lr = grid_search_cv(model_lr, param_grid, features_train, target_train)"
   ]
  },
  {
   "cell_type": "markdown",
   "metadata": {},
   "source": [
    "### RandomForestClassifier"
   ]
  },
  {
   "cell_type": "code",
   "execution_count": 11,
   "metadata": {},
   "outputs": [
    {
     "name": "stdout",
     "output_type": "stream",
     "text": [
      "Среднее время обучения для лучшей модели: 0.08822154998779297\n",
      "Среднее время тестирования для лучшей модели: 0.005742120742797852\n",
      "Лучший результат кросс-валидации F1: 0.9660917830792959\n"
     ]
    }
   ],
   "source": [
    "param_grid = {\n",
    "    'max_depth': [None, 5, 10, 15],\n",
    "    'min_samples_leaf': [1, 2, 4],\n",
    "    'n_estimators': [10,50,100,30]\n",
    "}\n",
    "model_forest = RandomForestClassifier(random_state=RANDOM_STATE)\n",
    "mean_fit_time_forest, mean_score_time_forest, f1_forest, model_forest = grid_search_cv(model_forest, param_grid, features_train, target_train)"
   ]
  },
  {
   "cell_type": "markdown",
   "metadata": {},
   "source": [
    "### LGBMClassifier"
   ]
  },
  {
   "cell_type": "code",
   "execution_count": 12,
   "metadata": {},
   "outputs": [
    {
     "name": "stdout",
     "output_type": "stream",
     "text": [
      "Среднее время обучения для лучшей модели: 0.9844558238983154\n",
      "Среднее время тестирования для лучшей модели: 0.01756711006164551\n",
      "Лучший результат кросс-валидации F1: 0.9444911286314404\n"
     ]
    }
   ],
   "source": [
    "model_lgb = LGBMClassifier(random_state=RANDOM_STATE)\n",
    "param_grid = {\n",
    "    'learning_rate': [0.01, 0.1, 0.2],\n",
    "    'n_estimators': [50, 100, 200]\n",
    "}\n",
    "mean_fit_time_lgb, mean_score_time_lgb, f1_lgb, model_lgb = grid_search_cv(model_lgb, param_grid, features_train, target_train)"
   ]
  },
  {
   "cell_type": "markdown",
   "metadata": {},
   "source": [
    "### CatBoostClassifier"
   ]
  },
  {
   "cell_type": "code",
   "execution_count": 13,
   "metadata": {},
   "outputs": [
    {
     "name": "stdout",
     "output_type": "stream",
     "text": [
      "Среднее время обучения для лучшей модели: 11.190471315383911\n",
      "Среднее время тестирования для лучшей модели: 0.0035443782806396486\n",
      "Лучший результат кросс-валидации F1: 0.9511897312113419\n"
     ]
    }
   ],
   "source": [
    "model_cat_boost = CatBoostClassifier(random_state=RANDOM_STATE, verbose=False)\n",
    "param_grid = {\n",
    "    'learning_rate': [0.01, 0.1],\n",
    "    'iterations': [50, 100]\n",
    "}\n",
    "mean_fit_time_cat_boost, mean_score_time_cat_boost, f1_cat_boost, model_cat_boost = grid_search_cv(model_cat_boost, param_grid, features_train, target_train)"
   ]
  },
  {
   "cell_type": "code",
   "execution_count": 14,
   "metadata": {
    "scrolled": false
   },
   "outputs": [
    {
     "data": {
      "text/html": [
       "<div>\n",
       "<style scoped>\n",
       "    .dataframe tbody tr th:only-of-type {\n",
       "        vertical-align: middle;\n",
       "    }\n",
       "\n",
       "    .dataframe tbody tr th {\n",
       "        vertical-align: top;\n",
       "    }\n",
       "\n",
       "    .dataframe thead th {\n",
       "        text-align: right;\n",
       "    }\n",
       "</style>\n",
       "<table border=\"1\" class=\"dataframe\">\n",
       "  <thead>\n",
       "    <tr style=\"text-align: right;\">\n",
       "      <th></th>\n",
       "      <th>fit_time</th>\n",
       "      <th>predict_time</th>\n",
       "      <th>F1</th>\n",
       "    </tr>\n",
       "  </thead>\n",
       "  <tbody>\n",
       "    <tr>\n",
       "      <th>LogisticRegression</th>\n",
       "      <td>0.481377</td>\n",
       "      <td>0.018879</td>\n",
       "      <td>0.948683</td>\n",
       "    </tr>\n",
       "    <tr>\n",
       "      <th>RandomForestClassifier</th>\n",
       "      <td>0.088222</td>\n",
       "      <td>0.005742</td>\n",
       "      <td>0.966092</td>\n",
       "    </tr>\n",
       "    <tr>\n",
       "      <th>LGBMClassifier</th>\n",
       "      <td>0.984456</td>\n",
       "      <td>0.017567</td>\n",
       "      <td>0.944491</td>\n",
       "    </tr>\n",
       "    <tr>\n",
       "      <th>CatBoostClassifier</th>\n",
       "      <td>11.190471</td>\n",
       "      <td>0.003544</td>\n",
       "      <td>0.951190</td>\n",
       "    </tr>\n",
       "  </tbody>\n",
       "</table>\n",
       "</div>"
      ],
      "text/plain": [
       "                         fit_time  predict_time        F1\n",
       "LogisticRegression       0.481377      0.018879  0.948683\n",
       "RandomForestClassifier   0.088222      0.005742  0.966092\n",
       "LGBMClassifier           0.984456      0.017567  0.944491\n",
       "CatBoostClassifier      11.190471      0.003544  0.951190"
      ]
     },
     "metadata": {},
     "output_type": "display_data"
    },
    {
     "name": "stdout",
     "output_type": "stream",
     "text": [
      "Модель с макс метрикой: RandomForestClassifier F1 = 0.966\n"
     ]
    }
   ],
   "source": [
    "result = pd.DataFrame( {'fit_time': [mean_fit_time_lr, mean_fit_time_forest, mean_fit_time_lgb, mean_fit_time_cat_boost],\n",
    "                        'predict_time': [mean_score_time_lr, mean_score_time_forest, mean_score_time_lgb, mean_score_time_cat_boost],\n",
    "                        'F1': [f1_lr, f1_forest, f1_lgb, f1_cat_boost]}, \n",
    "                        index=['LogisticRegression','RandomForestClassifier', 'LGBMClassifier', 'CatBoostClassifier'], dtype='float64')\n",
    "display(result)\n",
    "best_model = result.F1.idxmax()\n",
    "print(f'Модель с макс метрикой: {best_model} F1 = {round(result.F1.max(), 3)}')"
   ]
  },
  {
   "cell_type": "markdown",
   "metadata": {},
   "source": [
    "Спрогнозируем данные из тестовой выборки с помощью лучшей модели"
   ]
  },
  {
   "cell_type": "code",
   "execution_count": 15,
   "metadata": {
    "scrolled": true
   },
   "outputs": [
    {
     "name": "stdout",
     "output_type": "stream",
     "text": [
      "На тестовой выборке RandomForestClassifier показала F1: 1.0\n"
     ]
    }
   ],
   "source": [
    "if best_model == 'LogisticRegression':\n",
    "    predictions = model_lr.predict(features_test)\n",
    "    print(f'На тестовой выборке {best_model} показала F1: {round(f1_score(target_test, predictions), 3)}')\n",
    "elif best_model == 'RandomForestClassifier':\n",
    "    predictions = model_forest.predict(features_test)\n",
    "    print(f'На тестовой выборке {best_model} показала F1: {round(f1_score(target_test, predictions), 3)}')\n",
    "elif best_model == 'LGBMClassifier':\n",
    "    predictions = model_lgb.predict(features_test)\n",
    "    print(f'На тестовой выборке {best_model} показала F1: {round(f1_score(target_test, predictions), 3)}')\n",
    "else:\n",
    "    predictions = model_cat_boost.predict(features_test)\n",
    "    print(f'На тестовой выборке {best_model} показала F1: {round(f1_score(target_test, predictions), 3)}')"
   ]
  },
  {
   "cell_type": "markdown",
   "metadata": {},
   "source": [
    "## Выводы"
   ]
  },
  {
   "cell_type": "markdown",
   "metadata": {},
   "source": [
    "### Подготовка\n",
    "\n",
    "1) В наших данных отсутствуют пропуски и дубликаты\n",
    "\n",
    "2) Взяли случайные 400 текстов, чтобы не так долго создавать эмбеддинги\n",
    "\n",
    "3) Наш корпус текстов преобразовали в векторы с помощью Toxic Bert\n",
    "\n",
    "4) Разбили наш датасет на тестовую и обучающуюся выборку с учетом дисбаланса классов"
   ]
  },
  {
   "cell_type": "markdown",
   "metadata": {},
   "source": [
    "\n",
    "\n",
    "### Обучение \n",
    "\n",
    "Мы взяли 4 модели для работы с данными: LogisticRegression, RandomForestClassifier, LGBMClassifier, CatBoostClassifier\n"
   ]
  },
  {
   "cell_type": "code",
   "execution_count": 16,
   "metadata": {},
   "outputs": [
    {
     "name": "stdout",
     "output_type": "stream",
     "text": [
      "Быстрее всех обучилась: RandomForestClassifier, а медленее всех CatBoostClassifier\n"
     ]
    }
   ],
   "source": [
    "print(f'Быстрее всех обучилась: {result.fit_time.idxmin()}, а медленее всех {result.fit_time.idxmax()}')"
   ]
  },
  {
   "cell_type": "code",
   "execution_count": 17,
   "metadata": {},
   "outputs": [
    {
     "name": "stdout",
     "output_type": "stream",
     "text": [
      "Быстрее всех спрогнозировала модель на валидационной выборке: CatBoostClassifier, а медленее всех LogisticRegression\n"
     ]
    }
   ],
   "source": [
    "print(f'Быстрее всех спрогнозировала модель на валидационной выборке: {result.predict_time.idxmin()}, а медленее всех {result.predict_time.idxmax()}')"
   ]
  },
  {
   "cell_type": "code",
   "execution_count": 18,
   "metadata": {},
   "outputs": [
    {
     "name": "stdout",
     "output_type": "stream",
     "text": [
      "По метрике F1 выше всех у: RandomForestClassifier, а меньше у LGBMClassifier\n"
     ]
    }
   ],
   "source": [
    "print(f'По метрике F1 выше всех у: {result.F1.idxmax()}, а меньше у {result.F1.idxmin()}')"
   ]
  },
  {
   "cell_type": "markdown",
   "metadata": {},
   "source": [
    "Мы спрогнозировали целевую переменную на тестовой выборке с помощью лучшей модели. Метрика не ухудшиласть на тестовой выборке, а значит переобучение отсутствует "
   ]
  },
  {
   "cell_type": "code",
   "execution_count": 19,
   "metadata": {},
   "outputs": [
    {
     "name": "stdout",
     "output_type": "stream",
     "text": [
      "Разница метрик у лучшей модели на разных выборках: 0.034\n"
     ]
    }
   ],
   "source": [
    "print(f'Разница метрик у лучшей модели на разных выборках: {round(abs(result.F1.max() - f1_score(target_test, predictions)), 3)}')"
   ]
  }
 ],
 "metadata": {
  "ExecuteTimeLog": [
   {
    "duration": 403,
    "start_time": "2024-02-13T20:46:09.241Z"
   },
   {
    "duration": 60,
    "start_time": "2024-02-13T20:46:34.044Z"
   },
   {
    "duration": 2,
    "start_time": "2024-02-13T20:46:39.490Z"
   },
   {
    "duration": 2345,
    "start_time": "2024-02-13T20:46:39.792Z"
   },
   {
    "duration": 893,
    "start_time": "2024-02-13T20:46:53.878Z"
   },
   {
    "duration": 228,
    "start_time": "2024-02-13T20:47:34.455Z"
   },
   {
    "duration": 612,
    "start_time": "2024-02-13T20:49:33.443Z"
   },
   {
    "duration": 2,
    "start_time": "2024-02-13T20:54:36.596Z"
   },
   {
    "duration": 46,
    "start_time": "2024-02-13T21:09:41.830Z"
   },
   {
    "duration": 1056,
    "start_time": "2024-02-13T21:09:48.630Z"
   },
   {
    "duration": 2352,
    "start_time": "2024-02-13T21:09:49.688Z"
   },
   {
    "duration": 235,
    "start_time": "2024-02-13T21:09:52.153Z"
   },
   {
    "duration": 3215,
    "start_time": "2024-02-13T21:09:53.141Z"
   },
   {
    "duration": 16815,
    "start_time": "2024-02-13T21:09:56.358Z"
   },
   {
    "duration": 3,
    "start_time": "2024-02-13T21:10:38.821Z"
   },
   {
    "duration": 3,
    "start_time": "2024-02-13T21:15:12.009Z"
   },
   {
    "duration": 264,
    "start_time": "2024-02-13T21:22:51.388Z"
   },
   {
    "duration": 45,
    "start_time": "2024-02-13T21:23:09.664Z"
   },
   {
    "duration": 185,
    "start_time": "2024-02-13T21:23:42.763Z"
   },
   {
    "duration": 834,
    "start_time": "2024-02-13T21:23:55.758Z"
   },
   {
    "duration": 231,
    "start_time": "2024-02-13T21:24:00.839Z"
   },
   {
    "duration": 796,
    "start_time": "2024-02-13T21:24:15.816Z"
   },
   {
    "duration": 2499,
    "start_time": "2024-02-13T21:24:17.778Z"
   },
   {
    "duration": 68,
    "start_time": "2024-02-13T21:24:20.279Z"
   },
   {
    "duration": 847,
    "start_time": "2024-02-13T21:25:23.904Z"
   },
   {
    "duration": 826,
    "start_time": "2024-02-13T21:25:31.197Z"
   },
   {
    "duration": 45,
    "start_time": "2024-02-13T21:29:15.467Z"
   },
   {
    "duration": 858,
    "start_time": "2024-02-13T21:29:52.456Z"
   },
   {
    "duration": 10,
    "start_time": "2024-02-13T21:29:57.437Z"
   },
   {
    "duration": 2405,
    "start_time": "2024-02-13T21:30:36.442Z"
   },
   {
    "duration": 41,
    "start_time": "2024-02-13T21:30:38.849Z"
   },
   {
    "duration": 66,
    "start_time": "2024-02-13T21:31:15.254Z"
   },
   {
    "duration": 47,
    "start_time": "2024-02-13T21:32:20.662Z"
   },
   {
    "duration": 1551,
    "start_time": "2024-02-13T21:39:29.537Z"
   },
   {
    "duration": 2343,
    "start_time": "2024-02-13T21:39:31.090Z"
   },
   {
    "duration": 229,
    "start_time": "2024-02-13T21:39:33.434Z"
   },
   {
    "duration": 47,
    "start_time": "2024-02-13T21:41:13.392Z"
   },
   {
    "duration": 1648,
    "start_time": "2024-02-13T21:41:21.807Z"
   },
   {
    "duration": 931,
    "start_time": "2024-02-13T21:41:23.457Z"
   },
   {
    "duration": 240,
    "start_time": "2024-02-13T21:41:24.389Z"
   },
   {
    "duration": 2488,
    "start_time": "2024-02-13T21:41:24.630Z"
   },
   {
    "duration": 16770,
    "start_time": "2024-02-13T21:41:27.120Z"
   },
   {
    "duration": 323,
    "start_time": "2024-02-13T21:41:43.892Z"
   },
   {
    "duration": 837,
    "start_time": "2024-02-13T21:42:34.174Z"
   },
   {
    "duration": 1588,
    "start_time": "2024-02-13T21:42:54.032Z"
   },
   {
    "duration": 2381,
    "start_time": "2024-02-13T21:42:55.622Z"
   },
   {
    "duration": 242,
    "start_time": "2024-02-13T21:42:58.004Z"
   },
   {
    "duration": 2711,
    "start_time": "2024-02-13T21:42:58.248Z"
   },
   {
    "duration": 16703,
    "start_time": "2024-02-13T21:43:00.961Z"
   },
   {
    "duration": 313,
    "start_time": "2024-02-13T21:43:17.666Z"
   },
   {
    "duration": 3,
    "start_time": "2024-02-13T21:47:58.439Z"
   },
   {
    "duration": 2276,
    "start_time": "2024-02-13T21:48:03.540Z"
   },
   {
    "duration": 249,
    "start_time": "2024-02-13T21:48:05.818Z"
   },
   {
    "duration": 18,
    "start_time": "2024-02-13T21:48:06.068Z"
   },
   {
    "duration": 294,
    "start_time": "2024-02-13T21:48:29.376Z"
   },
   {
    "duration": 803,
    "start_time": "2024-02-13T21:48:34.846Z"
   },
   {
    "duration": 44,
    "start_time": "2024-02-13T21:49:03.333Z"
   },
   {
    "duration": 1581,
    "start_time": "2024-02-13T21:49:06.867Z"
   },
   {
    "duration": 2329,
    "start_time": "2024-02-13T21:49:08.450Z"
   },
   {
    "duration": 242,
    "start_time": "2024-02-13T21:49:10.780Z"
   },
   {
    "duration": 17,
    "start_time": "2024-02-13T21:49:11.024Z"
   },
   {
    "duration": 2562,
    "start_time": "2024-02-13T21:49:11.042Z"
   },
   {
    "duration": 16714,
    "start_time": "2024-02-13T21:49:13.606Z"
   },
   {
    "duration": 313,
    "start_time": "2024-02-13T21:49:30.322Z"
   },
   {
    "duration": 47,
    "start_time": "2024-02-13T21:50:28.180Z"
   },
   {
    "duration": 5,
    "start_time": "2024-02-13T21:59:28.222Z"
   },
   {
    "duration": 3,
    "start_time": "2024-02-13T22:00:11.406Z"
   },
   {
    "duration": 2,
    "start_time": "2024-02-13T22:00:42.536Z"
   },
   {
    "duration": 3,
    "start_time": "2024-02-13T22:01:22.562Z"
   },
   {
    "duration": 13,
    "start_time": "2024-02-13T22:02:10.963Z"
   },
   {
    "duration": 280979,
    "start_time": "2024-02-13T22:02:43.930Z"
   },
   {
    "duration": 3,
    "start_time": "2024-02-13T22:11:07.747Z"
   },
   {
    "duration": 280031,
    "start_time": "2024-02-13T22:11:12.142Z"
   },
   {
    "duration": 3,
    "start_time": "2024-02-13T22:17:12.090Z"
   },
   {
    "duration": 282864,
    "start_time": "2024-02-13T22:17:12.352Z"
   },
   {
    "duration": 599,
    "start_time": "2024-02-13T22:24:04.785Z"
   },
   {
    "duration": 40,
    "start_time": "2024-02-13T22:24:09.760Z"
   },
   {
    "duration": 360,
    "start_time": "2024-02-13T22:24:22.427Z"
   },
   {
    "duration": 477,
    "start_time": "2024-02-13T22:24:46.155Z"
   },
   {
    "duration": 5708,
    "start_time": "2024-02-13T22:24:47.136Z"
   },
   {
    "duration": 9,
    "start_time": "2024-02-13T22:24:52.846Z"
   },
   {
    "duration": 3,
    "start_time": "2024-02-13T22:27:32.040Z"
   },
   {
    "duration": 4945,
    "start_time": "2024-02-13T22:27:32.290Z"
   },
   {
    "duration": 3610,
    "start_time": "2024-02-14T21:38:27.449Z"
   },
   {
    "duration": 3390,
    "start_time": "2024-02-14T21:38:31.061Z"
   },
   {
    "duration": 246,
    "start_time": "2024-02-14T21:38:34.453Z"
   },
   {
    "duration": 564,
    "start_time": "2024-02-14T21:38:37.028Z"
   },
   {
    "duration": 3,
    "start_time": "2024-02-14T21:38:51.799Z"
   },
   {
    "duration": 3469,
    "start_time": "2024-02-14T22:10:20.940Z"
   },
   {
    "duration": 927,
    "start_time": "2024-02-14T22:10:24.410Z"
   },
   {
    "duration": 255,
    "start_time": "2024-02-14T22:10:25.339Z"
   },
   {
    "duration": 559,
    "start_time": "2024-02-14T22:10:25.596Z"
   },
   {
    "duration": 3,
    "start_time": "2024-02-14T22:10:26.157Z"
   },
   {
    "duration": 2356616,
    "start_time": "2024-02-14T22:10:26.162Z"
   },
   {
    "duration": 436,
    "start_time": "2024-02-14T22:51:55.833Z"
   },
   {
    "duration": 142,
    "start_time": "2024-02-14T22:52:12.046Z"
   },
   {
    "duration": 11883,
    "start_time": "2024-02-14T22:56:50.028Z"
   },
   {
    "duration": 647,
    "start_time": "2024-02-14T23:00:00.592Z"
   },
   {
    "duration": 368,
    "start_time": "2024-02-14T23:00:08.866Z"
   },
   {
    "duration": 139,
    "start_time": "2024-02-14T23:00:14.929Z"
   },
   {
    "duration": 108,
    "start_time": "2024-02-14T23:02:29.168Z"
   },
   {
    "duration": 120,
    "start_time": "2024-02-14T23:02:47.226Z"
   },
   {
    "duration": 135,
    "start_time": "2024-02-14T23:03:05.391Z"
   },
   {
    "duration": 125,
    "start_time": "2024-02-14T23:03:15.453Z"
   },
   {
    "duration": 131,
    "start_time": "2024-02-14T23:03:24.369Z"
   },
   {
    "duration": 134,
    "start_time": "2024-02-14T23:03:40.338Z"
   },
   {
    "duration": 4,
    "start_time": "2024-02-14T23:07:45.061Z"
   },
   {
    "duration": 98,
    "start_time": "2024-02-14T23:12:13.767Z"
   },
   {
    "duration": 54,
    "start_time": "2024-02-14T23:14:44.872Z"
   },
   {
    "duration": 4231,
    "start_time": "2024-02-14T23:14:50.190Z"
   },
   {
    "duration": 3414,
    "start_time": "2024-02-14T23:14:54.423Z"
   },
   {
    "duration": 252,
    "start_time": "2024-02-14T23:14:57.839Z"
   },
   {
    "duration": 724,
    "start_time": "2024-02-14T23:14:58.093Z"
   },
   {
    "duration": 3,
    "start_time": "2024-02-14T23:14:58.819Z"
   },
   {
    "duration": 2373384,
    "start_time": "2024-02-14T23:14:58.824Z"
   },
   {
    "duration": 12385,
    "start_time": "2024-02-14T23:54:32.210Z"
   },
   {
    "duration": 353,
    "start_time": "2024-02-14T23:54:44.596Z"
   },
   {
    "duration": 133,
    "start_time": "2024-02-14T23:54:44.951Z"
   },
   {
    "duration": 4,
    "start_time": "2024-02-15T00:01:22.246Z"
   },
   {
    "duration": 4,
    "start_time": "2024-02-15T00:02:18.763Z"
   },
   {
    "duration": 303,
    "start_time": "2024-02-15T00:02:32.810Z"
   },
   {
    "duration": 4,
    "start_time": "2024-02-15T00:03:06.723Z"
   },
   {
    "duration": 19,
    "start_time": "2024-02-15T00:03:10.884Z"
   },
   {
    "duration": 53,
    "start_time": "2024-02-15T00:03:53.990Z"
   },
   {
    "duration": 3091,
    "start_time": "2024-02-15T08:48:17.499Z"
   },
   {
    "duration": 2223,
    "start_time": "2024-02-15T08:48:20.592Z"
   },
   {
    "duration": 244,
    "start_time": "2024-02-15T08:48:22.817Z"
   },
   {
    "duration": 474,
    "start_time": "2024-02-15T08:48:23.063Z"
   },
   {
    "duration": 3,
    "start_time": "2024-02-15T08:48:23.539Z"
   },
   {
    "duration": 2031978,
    "start_time": "2024-02-15T08:48:23.543Z"
   },
   {
    "duration": 610,
    "start_time": "2024-02-15T09:22:15.523Z"
   },
   {
    "duration": 321,
    "start_time": "2024-02-15T09:22:16.135Z"
   },
   {
    "duration": 0,
    "start_time": "2024-02-15T09:22:16.458Z"
   },
   {
    "duration": 0,
    "start_time": "2024-02-15T09:22:16.460Z"
   },
   {
    "duration": 0,
    "start_time": "2024-02-15T09:22:16.461Z"
   },
   {
    "duration": 152,
    "start_time": "2024-02-15T09:22:56.686Z"
   },
   {
    "duration": 2143,
    "start_time": "2024-02-15T09:23:00.668Z"
   },
   {
    "duration": 79,
    "start_time": "2024-02-15T09:23:10.196Z"
   },
   {
    "duration": 3,
    "start_time": "2024-02-15T09:23:19.964Z"
   },
   {
    "duration": 114,
    "start_time": "2024-02-15T09:23:26.217Z"
   },
   {
    "duration": 76,
    "start_time": "2024-02-15T09:24:33.282Z"
   },
   {
    "duration": 47,
    "start_time": "2024-02-15T09:25:17.998Z"
   },
   {
    "duration": 3924,
    "start_time": "2024-02-15T09:25:21.668Z"
   },
   {
    "duration": 2238,
    "start_time": "2024-02-15T09:25:25.594Z"
   },
   {
    "duration": 235,
    "start_time": "2024-02-15T09:25:27.834Z"
   },
   {
    "duration": 646,
    "start_time": "2024-02-15T09:25:28.071Z"
   },
   {
    "duration": 3,
    "start_time": "2024-02-15T09:25:28.718Z"
   },
   {
    "duration": 2052597,
    "start_time": "2024-02-15T09:25:28.723Z"
   },
   {
    "duration": 327,
    "start_time": "2024-02-15T09:59:41.321Z"
   },
   {
    "duration": 84,
    "start_time": "2024-02-15T09:59:41.649Z"
   },
   {
    "duration": 2083,
    "start_time": "2024-02-15T09:59:41.735Z"
   },
   {
    "duration": 25,
    "start_time": "2024-02-15T09:59:43.821Z"
   },
   {
    "duration": 318,
    "start_time": "2024-02-15T09:59:43.849Z"
   },
   {
    "duration": 4,
    "start_time": "2024-02-15T10:00:25.690Z"
   },
   {
    "duration": 4,
    "start_time": "2024-02-15T10:00:46.928Z"
   },
   {
    "duration": 4,
    "start_time": "2024-02-15T10:00:54.810Z"
   },
   {
    "duration": 3902,
    "start_time": "2024-02-15T10:04:56.371Z"
   },
   {
    "duration": 2267,
    "start_time": "2024-02-15T10:05:00.275Z"
   },
   {
    "duration": 231,
    "start_time": "2024-02-15T10:05:02.543Z"
   },
   {
    "duration": 632,
    "start_time": "2024-02-15T10:05:02.776Z"
   },
   {
    "duration": 3,
    "start_time": "2024-02-15T10:05:03.409Z"
   },
   {
    "duration": 2043423,
    "start_time": "2024-02-15T10:05:03.414Z"
   },
   {
    "duration": 327,
    "start_time": "2024-02-15T10:39:06.839Z"
   },
   {
    "duration": 3826,
    "start_time": "2024-02-15T11:43:58.967Z"
   },
   {
    "duration": 932,
    "start_time": "2024-02-15T11:44:02.795Z"
   },
   {
    "duration": 266,
    "start_time": "2024-02-15T11:44:03.729Z"
   },
   {
    "duration": 652,
    "start_time": "2024-02-15T11:44:03.997Z"
   },
   {
    "duration": 3,
    "start_time": "2024-02-15T11:44:04.651Z"
   },
   {
    "duration": 2120412,
    "start_time": "2024-02-15T11:44:04.655Z"
   },
   {
    "duration": 328,
    "start_time": "2024-02-15T12:19:25.068Z"
   },
   {
    "duration": 66,
    "start_time": "2024-02-15T12:19:25.397Z"
   },
   {
    "duration": 10997,
    "start_time": "2024-02-15T12:19:38.837Z"
   },
   {
    "duration": 4,
    "start_time": "2024-02-15T12:20:06.506Z"
   },
   {
    "duration": 4,
    "start_time": "2024-02-15T12:20:32.694Z"
   },
   {
    "duration": 194300,
    "start_time": "2024-02-15T12:20:39.206Z"
   },
   {
    "duration": 37929,
    "start_time": "2024-02-15T12:25:37.809Z"
   },
   {
    "duration": 4,
    "start_time": "2024-02-15T12:28:12.850Z"
   },
   {
    "duration": 201312,
    "start_time": "2024-02-15T12:28:13.736Z"
   },
   {
    "duration": 3742,
    "start_time": "2024-02-15T12:47:55.268Z"
   },
   {
    "duration": 2264,
    "start_time": "2024-02-15T12:48:06.269Z"
   },
   {
    "duration": 236,
    "start_time": "2024-02-15T12:48:08.535Z"
   },
   {
    "duration": 267,
    "start_time": "2024-02-15T12:49:32.480Z"
   },
   {
    "duration": 7,
    "start_time": "2024-02-15T12:49:38.894Z"
   },
   {
    "duration": 4682,
    "start_time": "2024-02-15T12:51:00.813Z"
   },
   {
    "duration": 13875,
    "start_time": "2024-02-15T12:51:23.310Z"
   },
   {
    "duration": 3596,
    "start_time": "2024-02-15T12:52:10.911Z"
   },
   {
    "duration": 959231,
    "start_time": "2024-02-15T12:52:14.509Z"
   },
   {
    "duration": 327,
    "start_time": "2024-02-15T13:08:54.195Z"
   },
   {
    "duration": 29,
    "start_time": "2024-02-15T13:09:38.465Z"
   },
   {
    "duration": 19,
    "start_time": "2024-02-15T13:11:06.561Z"
   },
   {
    "duration": 5,
    "start_time": "2024-02-15T13:12:03.437Z"
   },
   {
    "duration": 4,
    "start_time": "2024-02-15T13:12:20.569Z"
   },
   {
    "duration": 4,
    "start_time": "2024-02-15T13:12:38.102Z"
   },
   {
    "duration": 5,
    "start_time": "2024-02-15T13:12:57.556Z"
   },
   {
    "duration": 5,
    "start_time": "2024-02-15T13:13:05.350Z"
   },
   {
    "duration": 16,
    "start_time": "2024-02-15T13:13:57.480Z"
   },
   {
    "duration": 3,
    "start_time": "2024-02-15T13:14:00.951Z"
   },
   {
    "duration": 2944,
    "start_time": "2024-02-15T13:14:01.199Z"
   },
   {
    "duration": 3,
    "start_time": "2024-02-15T13:14:19.511Z"
   },
   {
    "duration": 2525,
    "start_time": "2024-02-15T13:14:19.709Z"
   },
   {
    "duration": 7,
    "start_time": "2024-02-15T13:19:39.028Z"
   },
   {
    "duration": 3496,
    "start_time": "2024-02-15T13:19:39.708Z"
   },
   {
    "duration": 8,
    "start_time": "2024-02-15T13:19:53.103Z"
   },
   {
    "duration": 43,
    "start_time": "2024-02-15T13:19:53.113Z"
   },
   {
    "duration": 3976,
    "start_time": "2024-02-15T13:20:02.962Z"
   },
   {
    "duration": 2253,
    "start_time": "2024-02-15T13:20:06.940Z"
   },
   {
    "duration": 251,
    "start_time": "2024-02-15T13:20:09.195Z"
   },
   {
    "duration": 7,
    "start_time": "2024-02-15T13:20:09.449Z"
   },
   {
    "duration": 3663,
    "start_time": "2024-02-15T13:20:09.458Z"
   },
   {
    "duration": 871443,
    "start_time": "2024-02-15T13:20:13.122Z"
   },
   {
    "duration": 412,
    "start_time": "2024-02-15T13:34:44.567Z"
   },
   {
    "duration": 7,
    "start_time": "2024-02-15T13:34:44.980Z"
   },
   {
    "duration": 75,
    "start_time": "2024-02-15T13:34:44.989Z"
   },
   {
    "duration": 1877,
    "start_time": "2024-02-15T13:34:45.066Z"
   },
   {
    "duration": 6,
    "start_time": "2024-02-15T13:36:28.991Z"
   },
   {
    "duration": 4,
    "start_time": "2024-02-15T13:36:30.212Z"
   },
   {
    "duration": 2229,
    "start_time": "2024-02-15T13:36:30.604Z"
   },
   {
    "duration": 19,
    "start_time": "2024-02-15T13:41:06.552Z"
   },
   {
    "duration": 11,
    "start_time": "2024-02-15T13:42:59.816Z"
   },
   {
    "duration": 252,
    "start_time": "2024-02-15T13:44:39.332Z"
   },
   {
    "duration": 17969,
    "start_time": "2024-02-15T13:44:55.607Z"
   },
   {
    "duration": 24,
    "start_time": "2024-02-15T13:46:38.251Z"
   },
   {
    "duration": 3,
    "start_time": "2024-02-15T13:47:46.543Z"
   },
   {
    "duration": 19,
    "start_time": "2024-02-15T13:48:10.203Z"
   },
   {
    "duration": 4,
    "start_time": "2024-02-15T13:48:27.381Z"
   },
   {
    "duration": 19,
    "start_time": "2024-02-15T13:48:31.847Z"
   },
   {
    "duration": 3,
    "start_time": "2024-02-15T13:48:43.281Z"
   },
   {
    "duration": 42013,
    "start_time": "2024-02-15T13:48:53.031Z"
   },
   {
    "duration": 25,
    "start_time": "2024-02-15T13:51:53.455Z"
   },
   {
    "duration": 229517,
    "start_time": "2024-02-15T13:52:28.377Z"
   },
   {
    "duration": 3,
    "start_time": "2024-02-15T14:02:59.637Z"
   },
   {
    "duration": 2569,
    "start_time": "2024-02-15T14:03:00.166Z"
   },
   {
    "duration": 17787,
    "start_time": "2024-02-15T14:03:02.833Z"
   },
   {
    "duration": 41614,
    "start_time": "2024-02-15T14:03:20.621Z"
   },
   {
    "duration": 230409,
    "start_time": "2024-02-15T14:04:02.237Z"
   },
   {
    "duration": 0,
    "start_time": "2024-02-15T14:07:52.725Z"
   },
   {
    "duration": 73,
    "start_time": "2024-02-15T14:08:14.650Z"
   },
   {
    "duration": 23,
    "start_time": "2024-02-15T14:08:31.124Z"
   },
   {
    "duration": 21,
    "start_time": "2024-02-15T14:08:54.374Z"
   },
   {
    "duration": 20,
    "start_time": "2024-02-15T14:10:44.920Z"
   },
   {
    "duration": 18,
    "start_time": "2024-02-15T14:10:52.124Z"
   },
   {
    "duration": 20,
    "start_time": "2024-02-15T14:11:01.844Z"
   },
   {
    "duration": 72,
    "start_time": "2024-02-15T14:13:36.607Z"
   },
   {
    "duration": 20,
    "start_time": "2024-02-15T14:14:08.798Z"
   },
   {
    "duration": 18,
    "start_time": "2024-02-15T14:15:20.889Z"
   },
   {
    "duration": 10,
    "start_time": "2024-02-15T14:15:35.813Z"
   },
   {
    "duration": 5,
    "start_time": "2024-02-15T14:17:12.032Z"
   },
   {
    "duration": 81,
    "start_time": "2024-02-15T14:17:49.957Z"
   },
   {
    "duration": 99,
    "start_time": "2024-02-15T14:17:57.779Z"
   },
   {
    "duration": 5,
    "start_time": "2024-02-15T14:18:11.356Z"
   },
   {
    "duration": 5,
    "start_time": "2024-02-15T14:18:25.060Z"
   },
   {
    "duration": 6,
    "start_time": "2024-02-15T14:18:45.946Z"
   },
   {
    "duration": 5,
    "start_time": "2024-02-15T14:20:26.706Z"
   },
   {
    "duration": 3,
    "start_time": "2024-02-15T14:20:41.073Z"
   },
   {
    "duration": 1822,
    "start_time": "2024-02-15T14:20:41.313Z"
   },
   {
    "duration": 17444,
    "start_time": "2024-02-15T14:20:43.138Z"
   },
   {
    "duration": 43359,
    "start_time": "2024-02-15T14:21:00.584Z"
   },
   {
    "duration": 231958,
    "start_time": "2024-02-15T14:21:43.945Z"
   },
   {
    "duration": 8,
    "start_time": "2024-02-15T14:25:35.906Z"
   },
   {
    "duration": 8,
    "start_time": "2024-02-15T14:25:59.925Z"
   },
   {
    "duration": 9,
    "start_time": "2024-02-15T14:26:44.404Z"
   },
   {
    "duration": 10,
    "start_time": "2024-02-15T14:27:02.293Z"
   },
   {
    "duration": 20,
    "start_time": "2024-02-15T14:27:26.256Z"
   },
   {
    "duration": 73,
    "start_time": "2024-02-15T14:28:23.921Z"
   },
   {
    "duration": 1326,
    "start_time": "2024-02-15T14:28:26.985Z"
   },
   {
    "duration": 20,
    "start_time": "2024-02-15T14:29:20.088Z"
   },
   {
    "duration": 9,
    "start_time": "2024-02-15T14:29:31.292Z"
   },
   {
    "duration": 9,
    "start_time": "2024-02-15T14:29:45.085Z"
   },
   {
    "duration": 9,
    "start_time": "2024-02-15T14:29:59.793Z"
   },
   {
    "duration": 9,
    "start_time": "2024-02-15T14:30:15.085Z"
   },
   {
    "duration": 9,
    "start_time": "2024-02-15T14:30:43.808Z"
   },
   {
    "duration": 3411,
    "start_time": "2024-02-15T23:23:50.564Z"
   },
   {
    "duration": 2172,
    "start_time": "2024-02-15T23:23:53.977Z"
   },
   {
    "duration": 219,
    "start_time": "2024-02-15T23:24:12.921Z"
   },
   {
    "duration": 7,
    "start_time": "2024-02-15T23:25:02.602Z"
   },
   {
    "duration": 4639,
    "start_time": "2024-02-15T23:28:12.251Z"
   },
   {
    "duration": 882721,
    "start_time": "2024-02-15T23:29:57.781Z"
   },
   {
    "duration": 450,
    "start_time": "2024-02-15T23:44:48.879Z"
   },
   {
    "duration": 108,
    "start_time": "2024-02-15T23:45:04.824Z"
   },
   {
    "duration": 134,
    "start_time": "2024-02-15T23:45:10.301Z"
   },
   {
    "duration": 6,
    "start_time": "2024-02-15T23:45:35.631Z"
   },
   {
    "duration": 3,
    "start_time": "2024-02-15T23:45:43.790Z"
   },
   {
    "duration": 1286,
    "start_time": "2024-02-15T23:45:45.918Z"
   },
   {
    "duration": 15267,
    "start_time": "2024-02-15T23:45:47.207Z"
   },
   {
    "duration": 45936,
    "start_time": "2024-02-15T23:46:02.475Z"
   },
   {
    "duration": 221234,
    "start_time": "2024-02-15T23:46:48.413Z"
   },
   {
    "duration": 8,
    "start_time": "2024-02-15T23:50:29.649Z"
   },
   {
    "duration": 8,
    "start_time": "2024-02-15T23:51:43.715Z"
   },
   {
    "duration": 11,
    "start_time": "2024-02-15T23:57:38.633Z"
   },
   {
    "duration": 11,
    "start_time": "2024-02-15T23:58:45.193Z"
   },
   {
    "duration": 10,
    "start_time": "2024-02-15T23:59:06.794Z"
   },
   {
    "duration": 7,
    "start_time": "2024-02-15T23:59:22.409Z"
   },
   {
    "duration": 3,
    "start_time": "2024-02-15T23:59:25.363Z"
   },
   {
    "duration": 964,
    "start_time": "2024-02-15T23:59:26.346Z"
   },
   {
    "duration": 15199,
    "start_time": "2024-02-15T23:59:29.739Z"
   },
   {
    "duration": 45877,
    "start_time": "2024-02-15T23:59:44.940Z"
   },
   {
    "duration": 225908,
    "start_time": "2024-02-16T00:00:30.819Z"
   },
   {
    "duration": 8,
    "start_time": "2024-02-16T00:04:16.728Z"
   },
   {
    "duration": 12,
    "start_time": "2024-02-16T00:04:16.737Z"
   },
   {
    "duration": 7,
    "start_time": "2024-02-16T00:04:33.421Z"
   },
   {
    "duration": 5,
    "start_time": "2024-02-16T00:04:38.652Z"
   },
   {
    "duration": 1291,
    "start_time": "2024-02-16T00:04:41.919Z"
   },
   {
    "duration": 17383,
    "start_time": "2024-02-16T00:04:47.012Z"
   },
   {
    "duration": 60222,
    "start_time": "2024-02-16T00:05:04.397Z"
   },
   {
    "duration": 264006,
    "start_time": "2024-02-16T00:06:04.702Z"
   },
   {
    "duration": 8,
    "start_time": "2024-02-16T00:10:28.710Z"
   },
   {
    "duration": 9,
    "start_time": "2024-02-16T00:10:28.720Z"
   },
   {
    "duration": 6,
    "start_time": "2024-02-16T00:10:40.995Z"
   },
   {
    "duration": 3,
    "start_time": "2024-02-16T00:10:47.607Z"
   },
   {
    "duration": 1208,
    "start_time": "2024-02-16T00:10:48.102Z"
   },
   {
    "duration": 17874,
    "start_time": "2024-02-16T00:10:52.320Z"
   },
   {
    "duration": 63921,
    "start_time": "2024-02-16T00:11:10.196Z"
   },
   {
    "duration": 280544,
    "start_time": "2024-02-16T00:12:14.119Z"
   },
   {
    "duration": 10,
    "start_time": "2024-02-16T00:16:54.665Z"
   },
   {
    "duration": 14,
    "start_time": "2024-02-16T00:16:54.676Z"
   },
   {
    "duration": 13,
    "start_time": "2024-02-16T00:17:13.297Z"
   },
   {
    "duration": 8,
    "start_time": "2024-02-16T00:20:06.029Z"
   },
   {
    "duration": 9,
    "start_time": "2024-02-16T00:20:14.674Z"
   },
   {
    "duration": 4249,
    "start_time": "2024-02-17T12:23:25.918Z"
   },
   {
    "duration": 3221,
    "start_time": "2024-02-17T12:23:30.169Z"
   },
   {
    "duration": 246,
    "start_time": "2024-02-17T12:23:35.398Z"
   },
   {
    "duration": 7,
    "start_time": "2024-02-17T12:23:36.925Z"
   },
   {
    "duration": 5737,
    "start_time": "2024-02-17T12:23:39.110Z"
   },
   {
    "duration": 4015,
    "start_time": "2024-02-17T12:24:15.073Z"
   },
   {
    "duration": 3907,
    "start_time": "2024-02-17T12:24:26.939Z"
   },
   {
    "duration": 914371,
    "start_time": "2024-02-17T12:24:38.820Z"
   },
   {
    "duration": 552,
    "start_time": "2024-02-17T12:40:21.021Z"
   },
   {
    "duration": 131,
    "start_time": "2024-02-17T12:40:27.101Z"
   },
   {
    "duration": 7,
    "start_time": "2024-02-17T12:40:31.020Z"
   },
   {
    "duration": 4,
    "start_time": "2024-02-17T12:40:44.930Z"
   },
   {
    "duration": 2720,
    "start_time": "2024-02-17T12:40:46.859Z"
   },
   {
    "duration": 22855,
    "start_time": "2024-02-17T12:40:49.672Z"
   },
   {
    "duration": 70444,
    "start_time": "2024-02-17T12:41:12.529Z"
   },
   {
    "duration": 324307,
    "start_time": "2024-02-17T12:42:22.975Z"
   },
   {
    "duration": 10,
    "start_time": "2024-02-17T12:47:47.283Z"
   },
   {
    "duration": 29,
    "start_time": "2024-02-17T12:47:47.294Z"
   },
   {
    "duration": 9,
    "start_time": "2024-02-17T12:49:08.567Z"
   },
   {
    "duration": 10,
    "start_time": "2024-02-17T12:49:09.786Z"
   },
   {
    "duration": 5,
    "start_time": "2024-02-17T14:03:02.538Z"
   },
   {
    "duration": 984,
    "start_time": "2024-02-17T14:03:02.967Z"
   },
   {
    "duration": 250,
    "start_time": "2024-02-17T14:03:03.953Z"
   },
   {
    "duration": 7,
    "start_time": "2024-02-17T14:03:04.213Z"
   },
   {
    "duration": 4128,
    "start_time": "2024-02-17T14:03:04.599Z"
   },
   {
    "duration": 4224,
    "start_time": "2024-02-17T14:03:17.601Z"
   },
   {
    "duration": 947,
    "start_time": "2024-02-17T14:03:21.827Z"
   },
   {
    "duration": 249,
    "start_time": "2024-02-17T14:03:22.775Z"
   },
   {
    "duration": 6,
    "start_time": "2024-02-17T14:03:23.026Z"
   },
   {
    "duration": 4073,
    "start_time": "2024-02-17T14:03:23.034Z"
   },
   {
    "duration": 0,
    "start_time": "2024-02-17T14:03:27.109Z"
   },
   {
    "duration": 0,
    "start_time": "2024-02-17T14:03:27.110Z"
   },
   {
    "duration": 1,
    "start_time": "2024-02-17T14:03:27.111Z"
   },
   {
    "duration": 0,
    "start_time": "2024-02-17T14:03:27.113Z"
   },
   {
    "duration": 0,
    "start_time": "2024-02-17T14:03:27.114Z"
   },
   {
    "duration": 0,
    "start_time": "2024-02-17T14:03:27.114Z"
   },
   {
    "duration": 0,
    "start_time": "2024-02-17T14:03:27.116Z"
   },
   {
    "duration": 0,
    "start_time": "2024-02-17T14:03:27.117Z"
   },
   {
    "duration": 0,
    "start_time": "2024-02-17T14:03:27.118Z"
   },
   {
    "duration": 0,
    "start_time": "2024-02-17T14:03:27.119Z"
   },
   {
    "duration": 3971,
    "start_time": "2024-02-17T14:03:48.874Z"
   },
   {
    "duration": 3882,
    "start_time": "2024-02-17T14:03:58.369Z"
   },
   {
    "duration": 3872,
    "start_time": "2024-02-17T14:04:06.597Z"
   },
   {
    "duration": 2533,
    "start_time": "2024-02-17T14:04:10.470Z"
   },
   {
    "duration": 0,
    "start_time": "2024-02-17T14:04:13.004Z"
   },
   {
    "duration": 4369,
    "start_time": "2024-02-17T14:04:19.767Z"
   },
   {
    "duration": 935,
    "start_time": "2024-02-17T14:04:24.138Z"
   },
   {
    "duration": 254,
    "start_time": "2024-02-17T14:04:25.074Z"
   },
   {
    "duration": 7,
    "start_time": "2024-02-17T14:04:25.330Z"
   },
   {
    "duration": 4056,
    "start_time": "2024-02-17T14:04:25.339Z"
   },
   {
    "duration": 2720,
    "start_time": "2024-02-17T14:04:29.397Z"
   },
   {
    "duration": 0,
    "start_time": "2024-02-17T14:04:32.119Z"
   },
   {
    "duration": 0,
    "start_time": "2024-02-17T14:04:32.121Z"
   },
   {
    "duration": 0,
    "start_time": "2024-02-17T14:04:32.122Z"
   },
   {
    "duration": 0,
    "start_time": "2024-02-17T14:04:32.124Z"
   },
   {
    "duration": 0,
    "start_time": "2024-02-17T14:04:32.125Z"
   },
   {
    "duration": 0,
    "start_time": "2024-02-17T14:04:32.127Z"
   },
   {
    "duration": 0,
    "start_time": "2024-02-17T14:04:32.128Z"
   },
   {
    "duration": 0,
    "start_time": "2024-02-17T14:04:32.130Z"
   },
   {
    "duration": 0,
    "start_time": "2024-02-17T14:04:32.131Z"
   },
   {
    "duration": 4214,
    "start_time": "2024-02-17T14:06:28.114Z"
   },
   {
    "duration": 937,
    "start_time": "2024-02-17T14:06:32.330Z"
   },
   {
    "duration": 265,
    "start_time": "2024-02-17T14:06:33.268Z"
   },
   {
    "duration": 7,
    "start_time": "2024-02-17T14:06:33.534Z"
   },
   {
    "duration": 4002,
    "start_time": "2024-02-17T14:06:33.543Z"
   },
   {
    "duration": 2802,
    "start_time": "2024-02-17T14:06:37.547Z"
   },
   {
    "duration": 1,
    "start_time": "2024-02-17T14:06:40.350Z"
   },
   {
    "duration": 0,
    "start_time": "2024-02-17T14:06:40.352Z"
   },
   {
    "duration": 0,
    "start_time": "2024-02-17T14:06:40.353Z"
   },
   {
    "duration": 0,
    "start_time": "2024-02-17T14:06:40.354Z"
   },
   {
    "duration": 0,
    "start_time": "2024-02-17T14:06:40.355Z"
   },
   {
    "duration": 0,
    "start_time": "2024-02-17T14:06:40.356Z"
   },
   {
    "duration": 0,
    "start_time": "2024-02-17T14:06:40.373Z"
   },
   {
    "duration": 0,
    "start_time": "2024-02-17T14:06:40.375Z"
   },
   {
    "duration": 0,
    "start_time": "2024-02-17T14:06:40.376Z"
   },
   {
    "duration": 4231,
    "start_time": "2024-02-17T14:08:49.394Z"
   },
   {
    "duration": 940,
    "start_time": "2024-02-17T14:08:53.628Z"
   },
   {
    "duration": 253,
    "start_time": "2024-02-17T14:08:54.574Z"
   },
   {
    "duration": 7,
    "start_time": "2024-02-17T14:08:54.829Z"
   },
   {
    "duration": 3766,
    "start_time": "2024-02-17T14:08:54.838Z"
   },
   {
    "duration": 904386,
    "start_time": "2024-02-17T14:08:58.606Z"
   },
   {
    "duration": 349,
    "start_time": "2024-02-17T14:24:02.993Z"
   },
   {
    "duration": 7,
    "start_time": "2024-02-17T14:24:03.343Z"
   },
   {
    "duration": 20,
    "start_time": "2024-02-17T14:24:03.351Z"
   },
   {
    "duration": 2903,
    "start_time": "2024-02-17T14:24:03.373Z"
   },
   {
    "duration": 22796,
    "start_time": "2024-02-17T14:24:06.279Z"
   },
   {
    "duration": 77019,
    "start_time": "2024-02-17T14:24:29.076Z"
   },
   {
    "duration": 327369,
    "start_time": "2024-02-17T14:25:46.098Z"
   },
   {
    "duration": 115,
    "start_time": "2024-02-17T14:31:13.471Z"
   },
   {
    "duration": 0,
    "start_time": "2024-02-17T14:31:13.587Z"
   },
   {
    "duration": 11,
    "start_time": "2024-02-17T14:31:23.758Z"
   },
   {
    "duration": 10,
    "start_time": "2024-02-17T14:31:32.149Z"
   },
   {
    "duration": 127,
    "start_time": "2024-02-17T14:32:32.891Z"
   },
   {
    "duration": 5,
    "start_time": "2024-02-17T14:32:41.686Z"
   },
   {
    "duration": 2471,
    "start_time": "2024-02-17T14:32:43.206Z"
   },
   {
    "duration": 22988,
    "start_time": "2024-02-17T14:32:50.957Z"
   },
   {
    "duration": 87939,
    "start_time": "2024-02-17T14:33:13.948Z"
   },
   {
    "duration": 324714,
    "start_time": "2024-02-17T14:34:41.888Z"
   },
   {
    "duration": 11,
    "start_time": "2024-02-17T14:40:06.604Z"
   },
   {
    "duration": 11,
    "start_time": "2024-02-17T14:40:06.617Z"
   },
   {
    "duration": 11,
    "start_time": "2024-02-17T15:12:00.275Z"
   },
   {
    "duration": 10,
    "start_time": "2024-02-17T15:12:26.219Z"
   },
   {
    "duration": 12,
    "start_time": "2024-02-17T15:12:57.309Z"
   },
   {
    "duration": 4532,
    "start_time": "2024-02-17T19:30:59.104Z"
   },
   {
    "duration": 3269,
    "start_time": "2024-02-17T19:31:03.639Z"
   },
   {
    "duration": 265,
    "start_time": "2024-02-17T19:31:06.910Z"
   },
   {
    "duration": 7,
    "start_time": "2024-02-17T19:31:07.180Z"
   },
   {
    "duration": 5475,
    "start_time": "2024-02-17T19:31:07.189Z"
   },
   {
    "duration": 1051956,
    "start_time": "2024-02-17T19:31:12.665Z"
   },
   {
    "duration": 605,
    "start_time": "2024-02-17T19:48:44.623Z"
   },
   {
    "duration": 9,
    "start_time": "2024-02-17T19:48:45.230Z"
   },
   {
    "duration": 20,
    "start_time": "2024-02-17T19:48:45.241Z"
   },
   {
    "duration": 1917,
    "start_time": "2024-02-17T19:48:45.264Z"
   },
   {
    "duration": 22181,
    "start_time": "2024-02-17T19:48:47.184Z"
   },
   {
    "duration": 58144,
    "start_time": "2024-02-17T19:49:09.366Z"
   },
   {
    "duration": 338277,
    "start_time": "2024-02-17T19:50:07.512Z"
   },
   {
    "duration": 12,
    "start_time": "2024-02-17T19:55:45.791Z"
   },
   {
    "duration": 7,
    "start_time": "2024-02-17T19:55:45.805Z"
   },
   {
    "duration": 21419,
    "start_time": "2024-02-17T19:56:28.810Z"
   },
   {
    "duration": 1910,
    "start_time": "2024-02-17T19:56:55.578Z"
   },
   {
    "duration": 134,
    "start_time": "2024-02-17T19:57:16.162Z"
   },
   {
    "duration": 9,
    "start_time": "2024-02-17T19:57:18.328Z"
   },
   {
    "duration": 5,
    "start_time": "2024-02-17T19:57:19.910Z"
   },
   {
    "duration": 1920,
    "start_time": "2024-02-17T19:57:28.962Z"
   },
   {
    "duration": 21721,
    "start_time": "2024-02-17T19:57:33.066Z"
   },
   {
    "duration": 8,
    "start_time": "2024-02-17T19:58:39.169Z"
   },
   {
    "duration": 9,
    "start_time": "2024-02-17T19:58:47.235Z"
   },
   {
    "duration": 4278,
    "start_time": "2024-02-17T20:01:50.931Z"
   },
   {
    "duration": 975,
    "start_time": "2024-02-17T20:01:55.211Z"
   },
   {
    "duration": 269,
    "start_time": "2024-02-17T20:01:56.188Z"
   },
   {
    "duration": 7,
    "start_time": "2024-02-17T20:01:56.459Z"
   },
   {
    "duration": 3818,
    "start_time": "2024-02-17T20:01:56.467Z"
   },
   {
    "duration": 901199,
    "start_time": "2024-02-17T20:02:00.287Z"
   },
   {
    "duration": 357,
    "start_time": "2024-02-17T20:17:01.488Z"
   },
   {
    "duration": 7,
    "start_time": "2024-02-17T20:17:01.847Z"
   },
   {
    "duration": 42,
    "start_time": "2024-02-17T20:17:01.855Z"
   },
   {
    "duration": 2881,
    "start_time": "2024-02-17T20:17:01.899Z"
   },
   {
    "duration": 23142,
    "start_time": "2024-02-17T20:17:04.783Z"
   },
   {
    "duration": 79857,
    "start_time": "2024-02-17T20:17:27.927Z"
   },
   {
    "duration": 340987,
    "start_time": "2024-02-17T20:18:47.786Z"
   },
   {
    "duration": 12,
    "start_time": "2024-02-17T20:24:28.774Z"
   },
   {
    "duration": 11,
    "start_time": "2024-02-17T20:24:28.788Z"
   },
   {
    "duration": 7,
    "start_time": "2024-02-17T20:26:28.589Z"
   },
   {
    "duration": 7,
    "start_time": "2024-02-17T20:26:36.947Z"
   },
   {
    "duration": 4,
    "start_time": "2024-02-17T20:30:35.056Z"
   },
   {
    "duration": 3,
    "start_time": "2024-02-17T20:31:00.961Z"
   },
   {
    "duration": 4,
    "start_time": "2024-02-17T20:31:18.918Z"
   },
   {
    "duration": 4,
    "start_time": "2024-02-17T20:32:17.712Z"
   },
   {
    "duration": 3,
    "start_time": "2024-02-17T20:33:37.014Z"
   },
   {
    "duration": 116,
    "start_time": "2024-02-17T20:35:11.738Z"
   },
   {
    "duration": 314,
    "start_time": "2024-02-17T20:35:23.053Z"
   },
   {
    "duration": 6,
    "start_time": "2024-02-17T20:35:36.985Z"
   },
   {
    "duration": 5,
    "start_time": "2024-02-17T20:35:52.278Z"
   },
   {
    "duration": 4264,
    "start_time": "2024-02-17T20:36:11.510Z"
   },
   {
    "duration": 973,
    "start_time": "2024-02-17T20:36:15.776Z"
   },
   {
    "duration": 277,
    "start_time": "2024-02-17T20:36:16.750Z"
   },
   {
    "duration": 6,
    "start_time": "2024-02-17T20:36:17.029Z"
   },
   {
    "duration": 3461,
    "start_time": "2024-02-17T20:36:17.036Z"
   },
   {
    "duration": 945298,
    "start_time": "2024-02-17T20:36:20.499Z"
   },
   {
    "duration": 372,
    "start_time": "2024-02-17T20:52:05.799Z"
   },
   {
    "duration": 11,
    "start_time": "2024-02-17T20:52:06.173Z"
   },
   {
    "duration": 5,
    "start_time": "2024-02-17T20:52:06.186Z"
   },
   {
    "duration": 2894,
    "start_time": "2024-02-17T20:52:06.194Z"
   },
   {
    "duration": 22313,
    "start_time": "2024-02-17T20:52:09.090Z"
   },
   {
    "duration": 77287,
    "start_time": "2024-02-17T20:52:31.405Z"
   },
   {
    "duration": 338343,
    "start_time": "2024-02-17T20:53:48.694Z"
   },
   {
    "duration": 12,
    "start_time": "2024-02-17T20:59:27.039Z"
   },
   {
    "duration": 31,
    "start_time": "2024-02-17T20:59:27.054Z"
   },
   {
    "duration": 14,
    "start_time": "2024-02-17T20:59:27.088Z"
   },
   {
    "duration": 23,
    "start_time": "2024-02-17T20:59:27.104Z"
   },
   {
    "duration": 15,
    "start_time": "2024-02-17T20:59:27.129Z"
   },
   {
    "duration": 22,
    "start_time": "2024-02-17T20:59:27.146Z"
   }
  ],
  "kernelspec": {
   "display_name": "Python 3 (ipykernel)",
   "language": "python",
   "name": "python3"
  },
  "language_info": {
   "codemirror_mode": {
    "name": "ipython",
    "version": 3
   },
   "file_extension": ".py",
   "mimetype": "text/x-python",
   "name": "python",
   "nbconvert_exporter": "python",
   "pygments_lexer": "ipython3",
   "version": "3.11.5"
  },
  "toc": {
   "base_numbering": 1,
   "nav_menu": {},
   "number_sections": true,
   "sideBar": true,
   "skip_h1_title": true,
   "title_cell": "Содержание",
   "title_sidebar": "Contents",
   "toc_cell": true,
   "toc_position": {
    "height": "calc(100% - 180px)",
    "left": "10px",
    "top": "150px",
    "width": "201.788px"
   },
   "toc_section_display": true,
   "toc_window_display": true
  }
 },
 "nbformat": 4,
 "nbformat_minor": 2
}
